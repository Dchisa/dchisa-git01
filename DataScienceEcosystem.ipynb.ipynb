{
 "cells": [
  {
   "cell_type": "markdown",
   "id": "8cd4b87a-28cf-4eac-902a-c6c583858641",
   "metadata": {},
   "source": [
    "# Data Science Tools and Ecosystem"
   ]
  },
  {
   "cell_type": "markdown",
   "id": "c98592d5-735b-4aec-aba4-25713048fbda",
   "metadata": {},
   "source": [
    "In this notebook, Data Science Tools and Ecosystem are summarized"
   ]
  },
  {
   "cell_type": "markdown",
   "id": "d6e9c135-5c6e-4a2e-aaf7-38e642a59a0e",
   "metadata": {},
   "source": [
    "***Objectives:***"
   ]
  },
  {
   "cell_type": "markdown",
   "id": "2d36e380-f782-4dd5-8c40-ebf8f884f4a8",
   "metadata": {},
   "source": [
    "- List popular languages for Data Science\n",
    "- List commonly used libraries for Data Science\n",
    "- list Development enviroment open source tools\n",
    "- simple arithmetic expression to mutiply add integers.\n",
    "- Converting hours to minutes\n",
    "\n"
   ]
  },
  {
   "cell_type": "markdown",
   "id": "74b5b6ee-ccc7-41d1-bdf4-fad00bc9f470",
   "metadata": {},
   "source": [
    "Some of the popular languages that Data Scientists use are:"
   ]
  },
  {
   "cell_type": "markdown",
   "id": "05c86a47-2d51-478a-bae3-63d531252c25",
   "metadata": {},
   "source": [
    "1. Python\n",
    "2. Java\n",
    "3. Scala\n",
    "4. R"
   ]
  },
  {
   "cell_type": "markdown",
   "id": "b3bdfdbb-dc3c-4d77-89a7-a5d59b7ce490",
   "metadata": {},
   "source": [
    "Some of the commonly used libraries used by Data Scientists include:"
   ]
  },
  {
   "cell_type": "markdown",
   "id": "2bbf659a-01ac-4e26-ab04-bd3fd23e876c",
   "metadata": {},
   "source": [
    "1. Numpy\n",
    "2. panda\n",
    "3. pytorch\n",
    "4. keras\n",
    "5. scikit-learn\n"
   ]
  },
  {
   "cell_type": "markdown",
   "id": "562a19b5-8176-4d71-869b-667d2d01715a",
   "metadata": {},
   "source": [
    "| Data Science Tools |\n",
    "| ------------------ |\n",
    "| Jupiter Notebook |\n",
    "| Apache Zeppelin |\n",
    "| R studios |"
   ]
  },
  {
   "cell_type": "markdown",
   "id": "efb6395f-d489-44f1-8086-671e23099f60",
   "metadata": {},
   "source": [
    "### Below are a few examples of evaluating arithmetic expressions in Python"
   ]
  },
  {
   "cell_type": "markdown",
   "id": "3c0c7282-dee0-4f7c-b59f-38e530715d27",
   "metadata": {},
   "source": [
    "This a simple arithmetic expression to mutiply then add integers."
   ]
  },
  {
   "cell_type": "code",
   "execution_count": 1,
   "id": "6473e552-d502-4800-961e-8f211ff06e0d",
   "metadata": {
    "tags": []
   },
   "outputs": [
    {
     "data": {
      "text/plain": [
       "17"
      ]
     },
     "execution_count": 1,
     "metadata": {},
     "output_type": "execute_result"
    }
   ],
   "source": [
    "(3*4)+5"
   ]
  },
  {
   "cell_type": "markdown",
   "id": "5f3f4c9f-c3a6-4a97-a41c-2f5be7f77755",
   "metadata": {},
   "source": [
    "This will convert 200 minutes to hours by diving by 60"
   ]
  },
  {
   "cell_type": "code",
   "execution_count": 6,
   "id": "1cdde84b-ca76-4f9a-99cd-0445be4bc4ae",
   "metadata": {
    "tags": []
   },
   "outputs": [
    {
     "data": {
      "text/plain": [
       "3.3333333333333335"
      ]
     },
     "execution_count": 6,
     "metadata": {},
     "output_type": "execute_result"
    }
   ],
   "source": [
    "200/60\n"
   ]
  },
  {
   "cell_type": "markdown",
   "id": "d460c3a9-ba6b-4c8d-86ee-78031cc6bf01",
   "metadata": {},
   "source": [
    "## Author\n",
    "Doris Chisa Uzoma"
   ]
  },
  {
   "cell_type": "code",
   "execution_count": null,
   "id": "aa297f1f-d32b-47a2-8975-325847f0a868",
   "metadata": {},
   "outputs": [],
   "source": []
  }
 ],
 "metadata": {
  "kernelspec": {
   "display_name": "Python",
   "language": "python",
   "name": "conda-env-python-py"
  },
  "language_info": {
   "codemirror_mode": {
    "name": "ipython",
    "version": 3
   },
   "file_extension": ".py",
   "mimetype": "text/x-python",
   "name": "python",
   "nbconvert_exporter": "python",
   "pygments_lexer": "ipython3",
   "version": "3.7.12"
  }
 },
 "nbformat": 4,
 "nbformat_minor": 5
}
